{
 "cells": [
  {
   "cell_type": "markdown",
   "id": "b48798d2",
   "metadata": {},
   "source": [
    "# Markdown"
   ]
  },
  {
   "cell_type": "code",
   "execution_count": 33,
   "id": "b97911e2",
   "metadata": {
    "tags": [
     "nbval-test-df"
    ]
   },
   "outputs": [
    {
     "name": "stdout",
     "output_type": "stream",
     "text": [
      "hello\n"
     ]
    },
    {
     "data": {
      "text/html": [
       "<div>\n",
       "<style scoped>\n",
       "    .dataframe tbody tr th:only-of-type {\n",
       "        vertical-align: middle;\n",
       "    }\n",
       "\n",
       "    .dataframe tbody tr th {\n",
       "        vertical-align: top;\n",
       "    }\n",
       "\n",
       "    .dataframe thead th {\n",
       "        text-align: right;\n",
       "    }\n",
       "</style>\n",
       "<table border=\"1\" class=\"dataframe\">\n",
       "  <thead>\n",
       "    <tr style=\"text-align: right;\">\n",
       "      <th></th>\n",
       "      <th>a</th>\n",
       "      <th>b</th>\n",
       "    </tr>\n",
       "  </thead>\n",
       "  <tbody>\n",
       "    <tr>\n",
       "      <th>0</th>\n",
       "      <td>0</td>\n",
       "      <td>0</td>\n",
       "    </tr>\n",
       "    <tr>\n",
       "      <th>1</th>\n",
       "      <td>1</td>\n",
       "      <td>1</td>\n",
       "    </tr>\n",
       "    <tr>\n",
       "      <th>2</th>\n",
       "      <td>2</td>\n",
       "      <td>2</td>\n",
       "    </tr>\n",
       "    <tr>\n",
       "      <th>3</th>\n",
       "      <td>3</td>\n",
       "      <td>3</td>\n",
       "    </tr>\n",
       "  </tbody>\n",
       "</table>\n",
       "</div>"
      ],
      "text/plain": [
       "   a  b\n",
       "0  0  0\n",
       "1  1  1\n",
       "2  2  2\n",
       "3  3  3"
      ]
     },
     "execution_count": 33,
     "metadata": {},
     "output_type": "execute_result"
    }
   ],
   "source": [
    "#1\n",
    "import pandas as pd\n",
    "\n",
    "print(\"hello\")\n",
    "\n",
    "pd.DataFrame({\"a\":range(4), \"b\":range(4)})"
   ]
  },
  {
   "cell_type": "code",
   "execution_count": 34,
   "id": "93d64962",
   "metadata": {
    "tags": []
   },
   "outputs": [
    {
     "name": "stdout",
     "output_type": "stream",
     "text": [
      "test: 0\n",
      "test: 1\n",
      "test: 2\n"
     ]
    }
   ],
   "source": [
    "#2\n",
    "for i in range(3):\n",
    "    print(f\"test: {i}\")"
   ]
  },
  {
   "cell_type": "code",
   "execution_count": 35,
   "id": "e8f4c088",
   "metadata": {},
   "outputs": [],
   "source": [
    "#3\n",
    "#print(\"hello\")"
   ]
  },
  {
   "cell_type": "code",
   "execution_count": 36,
   "id": "12e2a816",
   "metadata": {
    "tags": [
     "nbval-test-linecount"
    ]
   },
   "outputs": [
    {
     "name": "stdout",
     "output_type": "stream",
     "text": [
      "tesSt: 0.5893714408539772\n",
      "tesSt: 0.41717796423048925\n",
      "tesSt: 0.42017824493958467\n",
      "tesSt: 0.7443741408202927\n",
      "tesSt: 0.13626990886359824\n"
     ]
    }
   ],
   "source": [
    "#4\n",
    "import random\n",
    "\n",
    "for i in range(5):\n",
    "    print(f\"tesSt: {random.random()}\")"
   ]
  },
  {
   "cell_type": "code",
   "execution_count": 37,
   "id": "7531b161",
   "metadata": {
    "tags": [
     "nbval-variable-output"
    ]
   },
   "outputs": [
    {
     "name": "stdout",
     "output_type": "stream",
     "text": [
      "tesSt: 0.7751241809023129\n",
      "tesSt: 0.2163305229927971\n",
      "tesSt: 0.3599885725912755\n",
      "tesSt: 0.6954781474984408\n",
      "tesSt: 0.0970524679207585\n"
     ]
    }
   ],
   "source": [
    "#5\n",
    "for i in range(5):\n",
    "    print(f\"tesSt: {random.random()}\")\n",
    "# TEST: nbval-test-linecount"
   ]
  },
  {
   "cell_type": "code",
   "execution_count": 38,
   "id": "40ea67b2",
   "metadata": {},
   "outputs": [
    {
     "name": "stdout",
     "output_type": "stream",
     "text": [
      "3.43 µs ± 328 ns per loop (mean ± std. dev. of 7 runs, 100,000 loops each)\n"
     ]
    }
   ],
   "source": [
    "#6\n",
    "# Timing test\n",
    "%timeit [x for x in range(100)]"
   ]
  },
  {
   "cell_type": "code",
   "execution_count": 39,
   "id": "b14df7e3",
   "metadata": {},
   "outputs": [
    {
     "name": "stdout",
     "output_type": "stream",
     "text": [
      "3.19 µs ± 58.2 ns per loop (mean ± std. dev. of 7 runs, 100,000 loops each)\n"
     ]
    }
   ],
   "source": [
    "%%timeit\n",
    "#7 Another timing test\n",
    "# This cell should be ignored\n",
    "for i in range(10):\n",
    "    i**i"
   ]
  },
  {
   "cell_type": "code",
   "execution_count": 40,
   "id": "32e0da65",
   "metadata": {
    "tags": [
     "nbval-test-listlen"
    ]
   },
   "outputs": [
    {
     "data": {
      "text/plain": [
       "[1, 2, 0.3404346938315692]"
      ]
     },
     "execution_count": 40,
     "metadata": {},
     "output_type": "execute_result"
    }
   ],
   "source": [
    "#8\n",
    "# This cell should be ignored\n",
    "[1,2, random.random()]"
   ]
  },
  {
   "cell_type": "code",
   "execution_count": 41,
   "id": "18d83b55",
   "metadata": {},
   "outputs": [
    {
     "data": {
      "text/plain": [
       "[1, 2, 0.007998950128941473]"
      ]
     },
     "execution_count": 41,
     "metadata": {},
     "output_type": "execute_result"
    }
   ],
   "source": [
    "#9\n",
    "# This cell should be reported\n",
    "[1,2,random.random()]"
   ]
  },
  {
   "cell_type": "code",
   "execution_count": 42,
   "id": "88173fdc",
   "metadata": {
    "tags": [
     "nbval-test-listlen"
    ]
   },
   "outputs": [
    {
     "data": {
      "text/plain": [
       "[1, 2, 0.5937454577325935, 0.19273857428699437]"
      ]
     },
     "execution_count": 42,
     "metadata": {},
     "output_type": "execute_result"
    }
   ],
   "source": [
    "#10 extra list item\n",
    "# This cell should be reported\n",
    "[1,2,random.random(),random.random()]"
   ]
  },
  {
   "cell_type": "code",
   "execution_count": 43,
   "id": "88e5cb92",
   "metadata": {
    "tags": [
     "nbval-test-dictkeys"
    ]
   },
   "outputs": [
    {
     "data": {
      "text/plain": [
       "{'a': 1212, 'b': 0.36954599295502}"
      ]
     },
     "execution_count": 43,
     "metadata": {},
     "output_type": "execute_result"
    }
   ],
   "source": [
    "#11\n",
    "# This cell should be ignored...\n",
    "{\"a\":1212, \"b\":random.random()}"
   ]
  },
  {
   "cell_type": "code",
   "execution_count": 44,
   "id": "d66b0aef",
   "metadata": {},
   "outputs": [
    {
     "data": {
      "text/plain": [
       "{'a': 1212, 'b': 0.20627817495891776}"
      ]
     },
     "execution_count": 44,
     "metadata": {},
     "output_type": "execute_result"
    }
   ],
   "source": [
    "#12\n",
    "# This cell should be reported...\n",
    "{\"a\":1212, \"b\":random.random()}"
   ]
  },
  {
   "cell_type": "code",
   "execution_count": 45,
   "id": "11784e72",
   "metadata": {
    "tags": [
     "nbval-test-dictkeys"
    ]
   },
   "outputs": [
    {
     "data": {
      "text/plain": [
       "{'a': 1212, 'b': 0.43534777496389754, 'c': 12}"
      ]
     },
     "execution_count": 45,
     "metadata": {},
     "output_type": "execute_result"
    }
   ],
   "source": [
    "#13 - extra key\n",
    "# This cell should be reported\n",
    "{\"a\":1212, \"b\":random.random(), \"c\":12}"
   ]
  },
  {
   "cell_type": "code",
   "execution_count": 46,
   "id": "46027c30",
   "metadata": {},
   "outputs": [
    {
     "data": {
      "text/plain": [
       "['http://www.open.ac.uk', 'https://bbc.co.uk/dsdsds']"
      ]
     },
     "execution_count": 46,
     "metadata": {},
     "output_type": "execute_result"
    }
   ],
   "source": [
    "import re\n",
    "\n",
    "regex = r\"https?://[a-zA-Z0-9][a-zA-Z0-9-]{1,61}[a-zA-Z0-9]\\.[=a-zA-Z0-9\\_\\/\\?\\&\\%\\+\\#\\.\\-]+\"\n",
    "glob = re.compile(regex)\n",
    "#urls = glob.findall(fn.read_text(errors=\"ignore\"))\n",
    "\n",
    "txt=\"\"\"\n",
    "sdss\n",
    "sdsd\n",
    "sd\n",
    "http://www.open.ac.uk and [](https://bbc.co.uk/dsdsds)\"\"\"\n",
    "urls = glob.findall(txt)\n",
    "urls"
   ]
  },
  {
   "cell_type": "code",
   "execution_count": 47,
   "id": "600fbb0f",
   "metadata": {},
   "outputs": [],
   "source": [
    "#%%memit\n",
    "#A memit test\n",
    "for i in range(10):\n",
    "    i**i"
   ]
  },
  {
   "cell_type": "code",
   "execution_count": 48,
   "id": "05f509e5",
   "metadata": {},
   "outputs": [
    {
     "name": "stdout",
     "output_type": "stream",
     "text": [
      "3.23 µs ± 47.4 ns per loop (mean ± std. dev. of 7 runs, 100,000 loops each)\n"
     ]
    }
   ],
   "source": [
    "# Test a %timeit line magic\n",
    "%timeit [x for x in range(100)]"
   ]
  },
  {
   "cell_type": "code",
   "execution_count": 49,
   "id": "5159565a",
   "metadata": {},
   "outputs": [],
   "source": [
    "# Test a %memit line magic\n",
    "#%memit [x for x in range(100)]"
   ]
  },
  {
   "cell_type": "code",
   "execution_count": 50,
   "id": "7904e0d7",
   "metadata": {},
   "outputs": [
    {
     "data": {
      "text/plain": [
       "['a', 'b', 'c']"
      ]
     },
     "execution_count": 50,
     "metadata": {},
     "output_type": "execute_result"
    }
   ],
   "source": [
    "# Test list output\n",
    "[\"a\", \"c\", \"b\"]"
   ]
  },
  {
   "cell_type": "code",
   "execution_count": 51,
   "id": "156938f7",
   "metadata": {
    "tags": [
     "nbval-list-membership"
    ]
   },
   "outputs": [
    {
     "data": {
      "text/plain": [
       "['a', 'b', 'c']"
      ]
     },
     "execution_count": 51,
     "metadata": {},
     "output_type": "execute_result"
    }
   ],
   "source": [
    "#Test list output order free\n",
    "[\"a\", \"c\", \"b\"]"
   ]
  },
  {
   "cell_type": "markdown",
   "id": "6865212f",
   "metadata": {},
   "source": [
    "## folium Map\n",
    "\n",
    "Test rendering of folium map"
   ]
  },
  {
   "cell_type": "code",
   "execution_count": 52,
   "id": "69b93a0d",
   "metadata": {
    "tags": [
     "folium-map"
    ]
   },
   "outputs": [
    {
     "data": {
      "text/html": [
       "<div style=\"width:100%;\"><div style=\"position:relative;width:100%;height:0;padding-bottom:60%;\"><span style=\"color:#565656\">Make this Notebook Trusted to load map: File -> Trust Notebook</span><iframe src=\"about:blank\" style=\"position:absolute;width:100%;height:100%;left:0;top:0;border:none !important;\" data-html=%3C%21DOCTYPE%20html%3E%0A%3Chead%3E%20%20%20%20%0A%20%20%20%20%3Cmeta%20http-equiv%3D%22content-type%22%20content%3D%22text/html%3B%20charset%3DUTF-8%22%20/%3E%0A%20%20%20%20%0A%20%20%20%20%20%20%20%20%3Cscript%3E%0A%20%20%20%20%20%20%20%20%20%20%20%20L_NO_TOUCH%20%3D%20false%3B%0A%20%20%20%20%20%20%20%20%20%20%20%20L_DISABLE_3D%20%3D%20false%3B%0A%20%20%20%20%20%20%20%20%3C/script%3E%0A%20%20%20%20%0A%20%20%20%20%3Cstyle%3Ehtml%2C%20body%20%7Bwidth%3A%20100%25%3Bheight%3A%20100%25%3Bmargin%3A%200%3Bpadding%3A%200%3B%7D%3C/style%3E%0A%20%20%20%20%3Cstyle%3E%23map%20%7Bposition%3Aabsolute%3Btop%3A0%3Bbottom%3A0%3Bright%3A0%3Bleft%3A0%3B%7D%3C/style%3E%0A%20%20%20%20%3Cscript%20src%3D%22https%3A//cdn.jsdelivr.net/npm/leaflet%401.6.0/dist/leaflet.js%22%3E%3C/script%3E%0A%20%20%20%20%3Cscript%20src%3D%22https%3A//code.jquery.com/jquery-1.12.4.min.js%22%3E%3C/script%3E%0A%20%20%20%20%3Cscript%20src%3D%22https%3A//maxcdn.bootstrapcdn.com/bootstrap/3.2.0/js/bootstrap.min.js%22%3E%3C/script%3E%0A%20%20%20%20%3Cscript%20src%3D%22https%3A//cdnjs.cloudflare.com/ajax/libs/Leaflet.awesome-markers/2.0.2/leaflet.awesome-markers.js%22%3E%3C/script%3E%0A%20%20%20%20%3Clink%20rel%3D%22stylesheet%22%20href%3D%22https%3A//cdn.jsdelivr.net/npm/leaflet%401.6.0/dist/leaflet.css%22/%3E%0A%20%20%20%20%3Clink%20rel%3D%22stylesheet%22%20href%3D%22https%3A//maxcdn.bootstrapcdn.com/bootstrap/3.2.0/css/bootstrap.min.css%22/%3E%0A%20%20%20%20%3Clink%20rel%3D%22stylesheet%22%20href%3D%22https%3A//maxcdn.bootstrapcdn.com/bootstrap/3.2.0/css/bootstrap-theme.min.css%22/%3E%0A%20%20%20%20%3Clink%20rel%3D%22stylesheet%22%20href%3D%22https%3A//maxcdn.bootstrapcdn.com/font-awesome/4.6.3/css/font-awesome.min.css%22/%3E%0A%20%20%20%20%3Clink%20rel%3D%22stylesheet%22%20href%3D%22https%3A//cdnjs.cloudflare.com/ajax/libs/Leaflet.awesome-markers/2.0.2/leaflet.awesome-markers.css%22/%3E%0A%20%20%20%20%3Clink%20rel%3D%22stylesheet%22%20href%3D%22https%3A//cdn.jsdelivr.net/gh/python-visualization/folium/folium/templates/leaflet.awesome.rotate.min.css%22/%3E%0A%20%20%20%20%0A%20%20%20%20%20%20%20%20%20%20%20%20%3Cmeta%20name%3D%22viewport%22%20content%3D%22width%3Ddevice-width%2C%0A%20%20%20%20%20%20%20%20%20%20%20%20%20%20%20%20initial-scale%3D1.0%2C%20maximum-scale%3D1.0%2C%20user-scalable%3Dno%22%20/%3E%0A%20%20%20%20%20%20%20%20%20%20%20%20%3Cstyle%3E%0A%20%20%20%20%20%20%20%20%20%20%20%20%20%20%20%20%23map_b3f83a09a2b549b983e11653ec5d73c4%20%7B%0A%20%20%20%20%20%20%20%20%20%20%20%20%20%20%20%20%20%20%20%20position%3A%20relative%3B%0A%20%20%20%20%20%20%20%20%20%20%20%20%20%20%20%20%20%20%20%20width%3A%20100.0%25%3B%0A%20%20%20%20%20%20%20%20%20%20%20%20%20%20%20%20%20%20%20%20height%3A%20100.0%25%3B%0A%20%20%20%20%20%20%20%20%20%20%20%20%20%20%20%20%20%20%20%20left%3A%200.0%25%3B%0A%20%20%20%20%20%20%20%20%20%20%20%20%20%20%20%20%20%20%20%20top%3A%200.0%25%3B%0A%20%20%20%20%20%20%20%20%20%20%20%20%20%20%20%20%7D%0A%20%20%20%20%20%20%20%20%20%20%20%20%3C/style%3E%0A%20%20%20%20%20%20%20%20%0A%3C/head%3E%0A%3Cbody%3E%20%20%20%20%0A%20%20%20%20%0A%20%20%20%20%20%20%20%20%20%20%20%20%3Cdiv%20class%3D%22folium-map%22%20id%3D%22map_b3f83a09a2b549b983e11653ec5d73c4%22%20%3E%3C/div%3E%0A%20%20%20%20%20%20%20%20%0A%3C/body%3E%0A%3Cscript%3E%20%20%20%20%0A%20%20%20%20%0A%20%20%20%20%20%20%20%20%20%20%20%20var%20map_b3f83a09a2b549b983e11653ec5d73c4%20%3D%20L.map%28%0A%20%20%20%20%20%20%20%20%20%20%20%20%20%20%20%20%22map_b3f83a09a2b549b983e11653ec5d73c4%22%2C%0A%20%20%20%20%20%20%20%20%20%20%20%20%20%20%20%20%7B%0A%20%20%20%20%20%20%20%20%20%20%20%20%20%20%20%20%20%20%20%20center%3A%20%5B45.5236%2C%20-122.675%5D%2C%0A%20%20%20%20%20%20%20%20%20%20%20%20%20%20%20%20%20%20%20%20crs%3A%20L.CRS.EPSG3857%2C%0A%20%20%20%20%20%20%20%20%20%20%20%20%20%20%20%20%20%20%20%20zoom%3A%2010%2C%0A%20%20%20%20%20%20%20%20%20%20%20%20%20%20%20%20%20%20%20%20zoomControl%3A%20true%2C%0A%20%20%20%20%20%20%20%20%20%20%20%20%20%20%20%20%20%20%20%20preferCanvas%3A%20false%2C%0A%20%20%20%20%20%20%20%20%20%20%20%20%20%20%20%20%7D%0A%20%20%20%20%20%20%20%20%20%20%20%20%29%3B%0A%0A%20%20%20%20%20%20%20%20%20%20%20%20%0A%0A%20%20%20%20%20%20%20%20%0A%20%20%20%20%0A%20%20%20%20%20%20%20%20%20%20%20%20var%20tile_layer_bc4d19f011f04bef901989e29a8346c4%20%3D%20L.tileLayer%28%0A%20%20%20%20%20%20%20%20%20%20%20%20%20%20%20%20%22https%3A//%7Bs%7D.tile.openstreetmap.org/%7Bz%7D/%7Bx%7D/%7By%7D.png%22%2C%0A%20%20%20%20%20%20%20%20%20%20%20%20%20%20%20%20%7B%22attribution%22%3A%20%22Data%20by%20%5Cu0026copy%3B%20%5Cu003ca%20href%3D%5C%22http%3A//openstreetmap.org%5C%22%5Cu003eOpenStreetMap%5Cu003c/a%5Cu003e%2C%20under%20%5Cu003ca%20href%3D%5C%22http%3A//www.openstreetmap.org/copyright%5C%22%5Cu003eODbL%5Cu003c/a%5Cu003e.%22%2C%20%22detectRetina%22%3A%20false%2C%20%22maxNativeZoom%22%3A%2018%2C%20%22maxZoom%22%3A%2018%2C%20%22minZoom%22%3A%200%2C%20%22noWrap%22%3A%20false%2C%20%22opacity%22%3A%201%2C%20%22subdomains%22%3A%20%22abc%22%2C%20%22tms%22%3A%20false%7D%0A%20%20%20%20%20%20%20%20%20%20%20%20%29.addTo%28map_b3f83a09a2b549b983e11653ec5d73c4%29%3B%0A%20%20%20%20%20%20%20%20%0A%3C/script%3E onload=\"this.contentDocument.open();this.contentDocument.write(    decodeURIComponent(this.getAttribute('data-html')));this.contentDocument.close();\" allowfullscreen webkitallowfullscreen mozallowfullscreen></iframe></div></div>"
      ],
      "text/plain": [
       "<folium.folium.Map at 0x1217790a0>"
      ]
     },
     "execution_count": 52,
     "metadata": {},
     "output_type": "execute_result"
    }
   ],
   "source": [
    "import folium\n",
    "\n",
    "folium.Map(location=[45.5236, -122.6750])"
   ]
  },
  {
   "cell_type": "markdown",
   "id": "2f6074a0",
   "metadata": {},
   "source": [
    "# Final MD\n",
    "\n",
    "Also include a speling mistake."
   ]
  }
 ],
 "metadata": {
  "celltoolbar": "Tags",
  "interpreter": {
   "hash": "aee8b7b246df8f9039afb4144a1f6fd8d2ca17a180786b69acc140d282b71a49"
  },
  "kernelspec": {
   "display_name": "Python 3 (ipykernel)",
   "language": "python",
   "name": "python3"
  },
  "language_info": {
   "codemirror_mode": {
    "name": "ipython",
    "version": 3
   },
   "file_extension": ".py",
   "mimetype": "text/x-python",
   "name": "python",
   "nbconvert_exporter": "python",
   "pygments_lexer": "ipython3",
   "version": "3.9.12"
  }
 },
 "nbformat": 4,
 "nbformat_minor": 5
}
